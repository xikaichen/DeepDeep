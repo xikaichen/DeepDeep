{
 "cells": [
  {
   "cell_type": "code",
   "execution_count": 1,
   "metadata": {
    "collapsed": false
   },
   "outputs": [
    {
     "name": "stderr",
     "output_type": "stream",
     "text": [
      "Using TensorFlow backend.\n"
     ]
    }
   ],
   "source": [
    "import os\n",
    "import random \n",
    "\n",
    "import numpy as np\n",
    "from tqdm import tqdm\n",
    "import matplotlib.pyplot as plt\n",
    "import copy\n",
    "from keras.models import Sequential\n",
    "from keras.layers import Input, merge\n",
    "from keras.layers.core import Dense, Dropout, Activation\n",
    "from keras.layers.advanced_activations import LeakyReLU\n",
    "from keras.layers.normalization import BatchNormalization\n",
    "from keras.models import Model\n",
    "from keras.optimizers import SGD\n",
    "from keras.datasets import mnist\n",
    "from keras import backend as K"
   ]
  },
  {
   "cell_type": "code",
   "execution_count": 2,
   "metadata": {
    "collapsed": false
   },
   "outputs": [],
   "source": [
    "def pre(matrix):\n",
    "    matrix1 = copy.deepcopy(matrix)\n",
    "    for i in range(0,len(matrix1) - 1):\n",
    "        matrix1[i].append(matrix1[i+1][0])\n",
    "        #matrix1[i].append(matrix1[i+1][1])\n",
    "    matrix1[len(matrix1) - 1].append(0)\n",
    "    #matrix1[len(matrix1) - 1].append(1)\n",
    "    return matrix1\n",
    "\n",
    "time = 0\n",
    "train = []\n",
    "while(time < 50):\n",
    "    init = [0.5, 0, 0, 0.5, 0, 0.6, 0, 0.7, 0, 0.71, 0, 0.72]\n",
    "    matrix=[]\n",
    "    for i in range(1,11): \n",
    "        a = copy.deepcopy(init)\n",
    "        matrix.append(a)\n",
    "        if i >= 5:\n",
    "            init[0] = init[0] - 0.1 + i * np.random.uniform(0, 0.015)\n",
    "        else:\n",
    "            init[0] = init[0]+ np.random.uniform(-0.05, 0.05)\n",
    "        init[1]=init[1]+0.1+np.random.uniform(-0.02, 0.03)\n",
    "        init[2]=init[2]+0.1+np.random.uniform(-0.02, 0.03)\n",
    "        init[3]+=np.random.uniform(-0.01, 0.02)\n",
    "        init[4]=init[4]+0.1+np.random.uniform(-0.02, 0.03)\n",
    "        init[5]+=np.random.uniform(-0.01, 0.03)\n",
    "        init[6]=init[6]+0.1+np.random.uniform(-0.02, 0.03)\n",
    "        init[7]+=np.random.uniform(-0.01, 0.04)\n",
    "        init[8]=init[8]+0.1+np.random.uniform(-0.02, 0.03)\n",
    "        init[9]+=np.random.uniform(-0.01, 0.05)\n",
    "        init[10]=init[10]+0.1+np.random.uniform(-0.02, 0.03)\n",
    "        init[11]+=np.random.uniform(-0.01, 0.05)\n",
    "    matrix = pre(matrix)\n",
    "    b = copy.deepcopy(matrix)\n",
    "    b = np.array(b)\n",
    "    train.append(b)\n",
    "    time += 1\n",
    "\n",
    "train = np.array(train)\n",
    "np.array(train[0]).shape\n",
    "X_train = []\n",
    "for i in train:\n",
    "    for j in i:\n",
    "        X_train.append(j)\n",
    "X_train = np.array(X_train)"
   ]
  },
  {
   "cell_type": "code",
   "execution_count": 3,
   "metadata": {
    "collapsed": false
   },
   "outputs": [],
   "source": [
    "def generative_adversarial_network(generator_model, discriminator_model):\n",
    "\n",
    "    gan_model = Sequential()\n",
    "    gan_model.add(generator_model)\n",
    "    discriminator_model.trainable = False\n",
    "    gan_model.add(discriminator_model)\n",
    "    return gan_model\n",
    "\n",
    "\n",
    "random.seed(123)\n",
    "z_input_vector = 20\n",
    "\n",
    "generator_optimizer = SGD(lr=0.1, momentum=0.3, decay=1e-5)\n",
    "discriminator_optimizer = SGD(lr=0.1, momentum=0.1, decay=1e-5)\n",
    "gan_optimizer = SGD(lr=0.1, momentum=0.3)\n",
    "\n",
    "generator = Sequential()\n",
    "generator.add(Dense(input_dim=20, output_dim=160, init='glorot_uniform'))\n",
    "generator.add(BatchNormalization(mode=0))\n",
    "generator.add(LeakyReLU(alpha=0.3))\n",
    "generator.add(Dense(120, init='glorot_uniform'))\n",
    "generator.add(BatchNormalization(mode=0))\n",
    "generator.add(LeakyReLU(alpha=0.3))\n",
    "generator.add(Dense(100, init='glorot_uniform'))\n",
    "generator.add(BatchNormalization(mode=0))\n",
    "generator.add(LeakyReLU(alpha=0.3))\n",
    "generator.add(Dense(12, init='glorot_uniform', activation='sigmoid'))\n",
    "generator.compile(loss='binary_crossentropy', optimizer=generator_optimizer)\n",
    "#generator.summary()\n",
    "\n",
    "# Discriminator Model\n",
    "discriminator = Sequential()\n",
    "discriminator.add(Dense(input_dim=12, output_dim=240, init='glorot_uniform'))\n",
    "discriminator.add(LeakyReLU(alpha=0.3))\n",
    "discriminator.add(Dense(output_dim=240, init='glorot_uniform'))\n",
    "discriminator.add(LeakyReLU(alpha=0.1))\n",
    "discriminator.add(Dense(output_dim=240, init='glorot_uniform', activation='relu'))\n",
    "discriminator.add(Dropout(0.2))\n",
    "discriminator.add(Dense(1, init='glorot_uniform'))\n",
    "discriminator.add(Activation('sigmoid'))\n",
    "discriminator.compile(loss='binary_crossentropy', optimizer=discriminator_optimizer,\n",
    "                      metrics=['fbeta_score'])\n",
    "#discriminator.summary()\n",
    "\n",
    "# Build the gan framework\n",
    "gan = generative_adversarial_network(generator, discriminator)\n",
    "gan.compile(loss='binary_crossentropy', optimizer=gan_optimizer)\n",
    "#gan.summary()"
   ]
  },
  {
   "cell_type": "code",
   "execution_count": 4,
   "metadata": {
    "collapsed": false
   },
   "outputs": [],
   "source": [
    "#X_train = np.random.uniform(0, 1, size=[n_train_samples, 14])\n",
    "X_train = X_train.astype('float32')\n",
    "X_real = X_train[:,0:12]\n",
    "noise_gen = np.random.uniform(0, 1, size=[len(X_real), 20])\n",
    "\n",
    "initial_generated_images = generator.predict_on_batch(noise_gen)\n"
   ]
  },
  {
   "cell_type": "code",
   "execution_count": 5,
   "metadata": {
    "collapsed": false
   },
   "outputs": [
    {
     "name": "stdout",
     "output_type": "stream",
     "text": [
      "Epoch 1/1\n",
      "1000/1000 [==============================] - 0s - loss: 0.6856 - fbeta_score: 0.3938     \n"
     ]
    },
    {
     "data": {
      "text/plain": [
       "<keras.callbacks.History at 0x10da69390>"
      ]
     },
     "execution_count": 5,
     "metadata": {},
     "output_type": "execute_result"
    }
   ],
   "source": [
    "X = np.concatenate((X_real, initial_generated_images))\n",
    "\n",
    "n = X_real.shape[0]\n",
    "y = np.zeros(int(2*n))\n",
    "y[n:] = 1\n",
    "y = y.astype(int)\n",
    "discriminator.trainable = True\n",
    "discriminator.fit(X, y, nb_epoch=1, batch_size=300)"
   ]
  },
  {
   "cell_type": "code",
   "execution_count": 6,
   "metadata": {
    "collapsed": false
   },
   "outputs": [
    {
     "name": "stdout",
     "output_type": "stream",
     "text": [
      "Accuracy = 0.5\n"
     ]
    }
   ],
   "source": [
    "# Determine the accuracy of the model\n",
    "y_hat = discriminator.predict_on_batch(X)\n",
    "accuracy = (2*n - np.sum(np.abs(y - y_hat.round().transpose()))) / (2*n)\n",
    "print('Accuracy = {}'.format(accuracy))"
   ]
  },
  {
   "cell_type": "code",
   "execution_count": 7,
   "metadata": {
    "collapsed": true
   },
   "outputs": [],
   "source": [
    "def train_for_n(z_input, generator_model, discriminator_model, gan_model, X_train):\n",
    "    epoch = 500\n",
    "    batch=10\n",
    "    with tqdm(total=epoch) as pbar:\n",
    "        for e in range(epoch):\n",
    "            \n",
    "            pbar.update(1)\n",
    "\n",
    "            # Make random generative images   \n",
    "            noise = np.random.uniform(0, 1, size=[batch, z_input])\n",
    "            generated_images = generator_model.predict_on_batch(noise)\n",
    "            \n",
    "\n",
    "                \n",
    "\n",
    "            # Subset random batch of training data\n",
    "            rand_train_index = np.random.randint(0, X_train.shape[0], size=batch)\n",
    "            image_batch = X_train[rand_train_index, :] \n",
    "\n",
    "            # Combine generated images with training data\n",
    "            X = np.concatenate((image_batch, generated_images))\n",
    "            y = np.zeros(int(2*batch))\n",
    "            y[batch:] = 1  # Fake images get 1, real images get 0\n",
    "            y = y.astype(int)\n",
    "\n",
    "            # Train the discriminator to correctly detect fake images from real\n",
    "            discriminator.trainable = True\n",
    "            d_loss, d_f_score = discriminator_model.train_on_batch(x=X, y=y)\n",
    "            discriminator.trainable = False\n",
    "\n",
    "            # Coerce generator to try to make real samples\n",
    "            noise = np.random.uniform(0, 1, size=[batch, z_input])\n",
    "            y = np.zeros(batch)\n",
    "            y = y.astype(int)\n",
    "            g_loss = gan_model.train_on_batch(x=noise, y=y)\n",
    "\n",
    "    \n",
    "    return generated_images\n",
    "\n"
   ]
  },
  {
   "cell_type": "code",
   "execution_count": 8,
   "metadata": {
    "collapsed": false
   },
   "outputs": [
    {
     "name": "stderr",
     "output_type": "stream",
     "text": [
      "100%|██████████| 500/500 [00:08<00:00, 58.48it/s]\n"
     ]
    }
   ],
   "source": [
    "\n",
    "xxx = train_for_n(z_input=z_input_vector, generator_model=generator,\n",
    "            discriminator_model=discriminator, gan_model=gan, X_train = X_real)"
   ]
  },
  {
   "cell_type": "code",
   "execution_count": 9,
   "metadata": {
    "collapsed": false
   },
   "outputs": [
    {
     "data": {
      "image/png": "[encoded data removed]",
      "text/plain": [
       "<matplotlib.figure.Figure at 0x111330c10>"
      ]
     },
     "metadata": {},
     "output_type": "display_data"
    }
   ],
   "source": [
    "import matplotlib.pyplot as plt\n",
    "xxx = np.array(xxx)\n",
    "gg = np.sort(xxx, axis=0)\n",
    "for i in range(0, 9):\n",
    "    temp = gg[i]\n",
    "    plt.subplot(3, 3, i+1)\n",
    "    plt.plot(temp[0],temp[1],'ro')\n",
    "    plt.plot(temp[2],temp[3],'bo')\n",
    "    plt.plot(temp[4],temp[5],'bo')\n",
    "    plt.plot(temp[6],temp[7],'bo')\n",
    "    plt.plot(temp[8],temp[9],'bo')\n",
    "    plt.plot(temp[10],temp[11],'bo')\n",
    "    plt.axis([0,1,0,1])\n",
    "plt.show()\n",
    "\n",
    "\n"
   ]
  },
  {
   "cell_type": "code",
   "execution_count": null,
   "metadata": {
    "collapsed": true
   },
   "outputs": [],
   "source": []
  }
 ],
 "metadata": {
  "anaconda-cloud": {},
  "kernelspec": {
   "display_name": "Python [conda root]",
   "language": "python",
   "name": "conda-root-py"
  },
  "language_info": {
   "codemirror_mode": {
    "name": "ipython",
    "version": 2
   },
   "file_extension": ".py",
   "mimetype": "text/x-python",
   "name": "python",
   "nbconvert_exporter": "python",
   "pygments_lexer": "ipython2",
   "version": "2.7.12"
  }
 },
 "nbformat": 4,
 "nbformat_minor": 1
}
